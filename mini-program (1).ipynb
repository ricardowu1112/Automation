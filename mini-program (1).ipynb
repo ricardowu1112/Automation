{
 "cells": [
  {
   "cell_type": "code",
   "execution_count": 1,
   "metadata": {},
   "outputs": [
    {
     "name": "stdout",
     "output_type": "stream",
     "text": [
      "/Users/ricardowu/Documents/Ricardo wu\n"
     ]
    }
   ],
   "source": [
    "cd /Users/ricardowu/Documents/Ricardo wu"
   ]
  },
  {
   "cell_type": "code",
   "execution_count": 152,
   "metadata": {},
   "outputs": [],
   "source": [
    "import os\n",
    "from pathlib import Path\n",
    "import docx\n",
    "from docx.shared import Inches, Cm\n",
    "import glob\n",
    "\n",
    "parent_dir = \"/Users/ricardowu/Documents/Ricardo wu/screenshot\"\n",
    "folder_name = \"sk10002\"\n",
    "dir_to_save = 'doc file'"
   ]
  },
  {
   "cell_type": "code",
   "execution_count": 159,
   "metadata": {},
   "outputs": [],
   "source": [
    "class testing_tool:\n",
    "\n",
    "    def __init__(self, parent_dir, dir_to_save):\n",
    "        self.parent_dir = parent_dir\n",
    "        self.dir_to_save = dir_to_save\n",
    "\n",
    "    def create_folder(self, folder_name):\n",
    "        '''\n",
    "        The function creates a folder with name as folder name, nothing returned\n",
    "        '''\n",
    "        # Path\n",
    "        path = os.path.join(self.parent_dir, folder_name)\n",
    "        os.mkdir(path)\n",
    "        print(\"Directory '% s' created\" % folder_name)\n",
    "\n",
    "    def extract_dir_image(self, folder_name):\n",
    "        '''\n",
    "        This function pass in the dir and folder to check the image files with format .png and return a list of strings with filenames\n",
    "        e.g. ['screenshot/sk10001/Screenshot 2023-07-07 at 10.19.36 AM.png','screenshot/sk10001/Screenshot 2023-07-07 at 10.19.53 AM.png']\n",
    "        '''\n",
    "        sorted_dir_list = sorted(Path(self.parent_dir + '/' + folder_name).iterdir(), key=os.path.getmtime)\n",
    "        sorted_image_name_list = [str(file_name) for file_name in sorted_dir_list if '.png' in str(file_name)]\n",
    "        return sorted_image_name_list\n",
    "\n",
    "    def integrate_into_docx(self, folder_name, sorted_image_name_list):\n",
    "        '''\n",
    "        Assume folders containing images named with the testing case number, so create the docx files with filename from the source folders\n",
    "        '''\n",
    "        # Create an instance of a word document\n",
    "        doc = docx.Document()\n",
    "        sections = doc.sections\n",
    "        for section in sections:\n",
    "            section.top_margin = Cm(0.5)\n",
    "            section.bottom_margin = Cm(0.5)\n",
    "            section.left_margin = Cm(1)\n",
    "            section.right_margin = Cm(1)\n",
    "        # Add a Title to the document\n",
    "        sentence1 = doc.add_heading(folder_name, 0)\n",
    "        sentence1.alignment = 1\n",
    "\n",
    "        for file_listed in sorted_image_name_list:\n",
    "            docx.enum.text.WD_BREAK.LINE\n",
    "            pic = doc.add_picture(file_listed, width=Inches(6))\n",
    "            pic.alignment = 1\n",
    "    \n",
    "        # Now save the document to a location\n",
    "        doc.save(self.parent_dir + '/' + self.dir_to_save + '/' + folder_name + \".docx\")\n",
    "        print(folder_name + \".docx\" + ' created in folder: ' + self.dir_to_save)\n",
    "\n",
    "    def get_subdir_list(self):\n",
    "        '''\n",
    "        get subdir under parent dir, add dir_list into self\n",
    "        '''\n",
    "        dir = os.path.join(self.parent_dir)\n",
    "        self.dir_list = [subdir for subdir in glob.glob(f'{rootdir}/*/') if self.dir_to_save not in subdir]\n",
    "\n",
    "    def run(self):\n",
    "        self.get_subdir_list()\n",
    "        for sub_dir in self.dir_list:\n",
    "            folder_name = sub_dir.split('/')[-2]\n",
    "            sorted_image_name_list = self.extract_dir_image(folder_name)\n",
    "            self.integrate_into_docx(folder_name, sorted_image_name_list)"
   ]
  },
  {
   "cell_type": "code",
   "execution_count": 160,
   "metadata": {},
   "outputs": [
    {
     "name": "stdout",
     "output_type": "stream",
     "text": [
      "T00573-00093-00005.docx created in folder: doc file\n",
      "T00573-00093-00004.docx created in folder: doc file\n",
      "T00573-00093-00006.docx created in folder: doc file\n"
     ]
    }
   ],
   "source": [
    "test_now = testing_tool(parent_dir, dir_to_save)\n",
    "test_now.run()"
   ]
  },
  {
   "cell_type": "code",
   "execution_count": null,
   "metadata": {},
   "outputs": [],
   "source": []
  }
 ],
 "metadata": {
  "kernelspec": {
   "display_name": "base",
   "language": "python",
   "name": "python3"
  },
  "language_info": {
   "codemirror_mode": {
    "name": "ipython",
    "version": 3
   },
   "file_extension": ".py",
   "mimetype": "text/x-python",
   "name": "python",
   "nbconvert_exporter": "python",
   "pygments_lexer": "ipython3",
   "version": "3.10.9"
  },
  "orig_nbformat": 4
 },
 "nbformat": 4,
 "nbformat_minor": 2
}
